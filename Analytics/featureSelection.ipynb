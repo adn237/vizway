{
 "cells": [
  {
   "cell_type": "code",
   "execution_count": 81,
   "metadata": {
    "collapsed": false
   },
   "outputs": [],
   "source": [
    "import pandas as pd\n",
    "import matplotlib.pyplot as plt\n",
    "import scipy.sparse as sps\n",
    "from sklearn.feature_extraction import DictVectorizer\n",
    "from sklearn.linear_model import LinearRegression, LogisticRegressionCV,RandomizedLogisticRegression\n",
    "from sklearn.cross_validation import cross_val_score,cross_val_predict\n",
    "from sklearn.preprocessing import StandardScaler\n",
    "from sklearn.metrics import classification_report\n",
    "from sklearn.feature_selection import RFECV\n",
    "from sklearn.preprocessing import OneHotEncoder as OHE\n",
    "%matplotlib inline"
   ]
  },
  {
   "cell_type": "code",
   "execution_count": 82,
   "metadata": {
    "collapsed": false,
    "scrolled": true
   },
   "outputs": [
    {
     "name": "stderr",
     "output_type": "stream",
     "text": [
      "C:\\Anaconda\\lib\\site-packages\\ipykernel\\__main__.py:1: FutureWarning: sort(columns=....) is deprecated, use sort_values(by=.....)\n",
      "  if __name__ == '__main__':\n"
     ]
    }
   ],
   "source": [
    "df_acc = pd.read_csv(\"H20141041AccData.csv\").dropna(axis=1).sort(columns=\"pk_teuna_fikt\")\n",
    "\n",
    "# df_inv = pd.read_csv(\"H20131161InvData.csv\").dropna(axis=1).sort(columns=\"pk_teuna_fikt\")\n",
    "# df_veh = pd.read_csv(\"H20131161VehData.csv\").dropna(axis=1).sort(columns=\"pk_teuna_fikt\")"
   ]
  },
  {
   "cell_type": "code",
   "execution_count": 83,
   "metadata": {
    "collapsed": false
   },
   "outputs": [
    {
     "data": {
      "text/plain": [
       "{0, 1, 2, 3, 4, 5, 6, 7}"
      ]
     },
     "execution_count": 83,
     "metadata": {},
     "output_type": "execute_result"
    }
   ],
   "source": [
    "df_acc.SHAA -=1\n",
    "df_acc.SHAA //= 12\n",
    "set(df_acc.SHAA)"
   ]
  },
  {
   "cell_type": "code",
   "execution_count": 84,
   "metadata": {
    "collapsed": false
   },
   "outputs": [
    {
     "data": {
      "text/plain": [
       "{1, 3}"
      ]
     },
     "execution_count": 84,
     "metadata": {},
     "output_type": "execute_result"
    }
   ],
   "source": [
    "# df_acc=df_acc[df_acc.SEMEL_YISHUV>0]\n",
    "df_acc.HUMRAT_TEUNA.replace(2,1, inplace=True)\n",
    "# df_acc.HUMRAT_TEUNA.replace(1,0, inplace=True)\n",
    "# df_acc.HUMRAT_TEUNA.replace(3,1, inplace=True)\n",
    "set(df_acc.HUMRAT_TEUNA)"
   ]
  },
  {
   "cell_type": "code",
   "execution_count": 85,
   "metadata": {
    "collapsed": false
   },
   "outputs": [
    {
     "data": {
      "text/html": [
       "<div>\n",
       "<table border=\"1\" class=\"dataframe\">\n",
       "  <thead>\n",
       "    <tr style=\"text-align: right;\">\n",
       "      <th></th>\n",
       "      <th>THUM_GEOGRAFI</th>\n",
       "      <th>SUG_DEREH</th>\n",
       "      <th>SEMEL_YISHUV</th>\n",
       "      <th>YEHIDA</th>\n",
       "      <th>HODESH_TEUNA</th>\n",
       "      <th>YOM_BE_HODESH</th>\n",
       "      <th>SHAA</th>\n",
       "      <th>SUG_YOM</th>\n",
       "      <th>YOM_LAYLA</th>\n",
       "      <th>YOM_BASHAVUA</th>\n",
       "      <th>...</th>\n",
       "      <th>MERHAK_EZEM</th>\n",
       "      <th>LO_HAZA</th>\n",
       "      <th>OFEN_HAZIYA</th>\n",
       "      <th>MEKOM_HAZIYA</th>\n",
       "      <th>KIVUN_HAZIYA</th>\n",
       "      <th>MAHOZ</th>\n",
       "      <th>NAFA</th>\n",
       "      <th>EZOR_TIVI</th>\n",
       "      <th>ZURAT_ISHUV</th>\n",
       "      <th>STATUS_IGUN</th>\n",
       "    </tr>\n",
       "  </thead>\n",
       "  <tbody>\n",
       "    <tr>\n",
       "      <th>0</th>\n",
       "      <td>1</td>\n",
       "      <td>1</td>\n",
       "      <td>7400</td>\n",
       "      <td>51</td>\n",
       "      <td>1</td>\n",
       "      <td>3</td>\n",
       "      <td>0</td>\n",
       "      <td>4</td>\n",
       "      <td>5</td>\n",
       "      <td>6</td>\n",
       "      <td>...</td>\n",
       "      <td>9</td>\n",
       "      <td>9</td>\n",
       "      <td>3</td>\n",
       "      <td>3</td>\n",
       "      <td>1</td>\n",
       "      <td>4</td>\n",
       "      <td>41</td>\n",
       "      <td>411</td>\n",
       "      <td>14</td>\n",
       "      <td>1</td>\n",
       "    </tr>\n",
       "    <tr>\n",
       "      <th>1</th>\n",
       "      <td>1</td>\n",
       "      <td>2</td>\n",
       "      <td>2650</td>\n",
       "      <td>20</td>\n",
       "      <td>1</td>\n",
       "      <td>2</td>\n",
       "      <td>0</td>\n",
       "      <td>4</td>\n",
       "      <td>5</td>\n",
       "      <td>5</td>\n",
       "      <td>...</td>\n",
       "      <td>9</td>\n",
       "      <td>9</td>\n",
       "      <td>3</td>\n",
       "      <td>3</td>\n",
       "      <td>9</td>\n",
       "      <td>5</td>\n",
       "      <td>51</td>\n",
       "      <td>511</td>\n",
       "      <td>16</td>\n",
       "      <td>3</td>\n",
       "    </tr>\n",
       "    <tr>\n",
       "      <th>2</th>\n",
       "      <td>1</td>\n",
       "      <td>4</td>\n",
       "      <td>0</td>\n",
       "      <td>20</td>\n",
       "      <td>1</td>\n",
       "      <td>8</td>\n",
       "      <td>0</td>\n",
       "      <td>4</td>\n",
       "      <td>5</td>\n",
       "      <td>4</td>\n",
       "      <td>...</td>\n",
       "      <td>9</td>\n",
       "      <td>9</td>\n",
       "      <td>1</td>\n",
       "      <td>2</td>\n",
       "      <td>2</td>\n",
       "      <td>9</td>\n",
       "      <td>99</td>\n",
       "      <td>999</td>\n",
       "      <td>99</td>\n",
       "      <td>1</td>\n",
       "    </tr>\n",
       "    <tr>\n",
       "      <th>3</th>\n",
       "      <td>1</td>\n",
       "      <td>1</td>\n",
       "      <td>5000</td>\n",
       "      <td>20</td>\n",
       "      <td>1</td>\n",
       "      <td>10</td>\n",
       "      <td>0</td>\n",
       "      <td>4</td>\n",
       "      <td>5</td>\n",
       "      <td>6</td>\n",
       "      <td>...</td>\n",
       "      <td>9</td>\n",
       "      <td>9</td>\n",
       "      <td>1</td>\n",
       "      <td>3</td>\n",
       "      <td>1</td>\n",
       "      <td>5</td>\n",
       "      <td>51</td>\n",
       "      <td>511</td>\n",
       "      <td>13</td>\n",
       "      <td>1</td>\n",
       "    </tr>\n",
       "    <tr>\n",
       "      <th>4</th>\n",
       "      <td>1</td>\n",
       "      <td>2</td>\n",
       "      <td>7600</td>\n",
       "      <td>12</td>\n",
       "      <td>1</td>\n",
       "      <td>18</td>\n",
       "      <td>0</td>\n",
       "      <td>4</td>\n",
       "      <td>5</td>\n",
       "      <td>7</td>\n",
       "      <td>...</td>\n",
       "      <td>9</td>\n",
       "      <td>9</td>\n",
       "      <td>3</td>\n",
       "      <td>3</td>\n",
       "      <td>1</td>\n",
       "      <td>2</td>\n",
       "      <td>24</td>\n",
       "      <td>246</td>\n",
       "      <td>16</td>\n",
       "      <td>1</td>\n",
       "    </tr>\n",
       "  </tbody>\n",
       "</table>\n",
       "<p>5 rows × 33 columns</p>\n",
       "</div>"
      ],
      "text/plain": [
       "   THUM_GEOGRAFI  SUG_DEREH  SEMEL_YISHUV  YEHIDA  HODESH_TEUNA  \\\n",
       "0              1          1          7400      51             1   \n",
       "1              1          2          2650      20             1   \n",
       "2              1          4             0      20             1   \n",
       "3              1          1          5000      20             1   \n",
       "4              1          2          7600      12             1   \n",
       "\n",
       "   YOM_BE_HODESH  SHAA  SUG_YOM  YOM_LAYLA  YOM_BASHAVUA     ...       \\\n",
       "0              3     0        4          5             6     ...        \n",
       "1              2     0        4          5             5     ...        \n",
       "2              8     0        4          5             4     ...        \n",
       "3             10     0        4          5             6     ...        \n",
       "4             18     0        4          5             7     ...        \n",
       "\n",
       "   MERHAK_EZEM  LO_HAZA  OFEN_HAZIYA  MEKOM_HAZIYA  KIVUN_HAZIYA  MAHOZ  NAFA  \\\n",
       "0            9        9            3             3             1      4    41   \n",
       "1            9        9            3             3             9      5    51   \n",
       "2            9        9            1             2             2      9    99   \n",
       "3            9        9            1             3             1      5    51   \n",
       "4            9        9            3             3             1      2    24   \n",
       "\n",
       "   EZOR_TIVI  ZURAT_ISHUV  STATUS_IGUN  \n",
       "0        411           14            1  \n",
       "1        511           16            3  \n",
       "2        999           99            1  \n",
       "3        511           13            1  \n",
       "4        246           16            1  \n",
       "\n",
       "[5 rows x 33 columns]"
      ]
     },
     "execution_count": 85,
     "metadata": {},
     "output_type": "execute_result"
    }
   ],
   "source": [
    "cols_to_drop = [\"sug_tik\",\"SHNAT_TEUNA\",\"pk_teuna_fikt\", \"SUG_TEUNA\"]\n",
    "df_acc.drop(cols_to_drop,inplace=True,axis=1)\n",
    "df = df_acc\n",
    "df.head()"
   ]
  },
  {
   "cell_type": "code",
   "execution_count": 86,
   "metadata": {
    "collapsed": false,
    "scrolled": true
   },
   "outputs": [],
   "source": [
    "# df_inv.head()"
   ]
  },
  {
   "cell_type": "code",
   "execution_count": 87,
   "metadata": {
    "collapsed": false
   },
   "outputs": [],
   "source": [
    "# print(df_veh.SHNAT_YITZUR.median())\n",
    "# df_veh.SHNAT_YITZUR.replace(0,df_veh.SHNAT_YITZUR.median(),inplace=True)\n",
    "# df_veh.head()"
   ]
  },
  {
   "cell_type": "code",
   "execution_count": 88,
   "metadata": {
    "collapsed": false
   },
   "outputs": [],
   "source": [
    "# # df = pd.concat([df_acc,df_veh, df_inv], axis=1)\n",
    "\n",
    "# df = df_acc.join([df_veh, df_inv],on='pk_teuna_fikt')\n",
    "# df.head()\n",
    "# df.drop('SUG_TIK' ,axis=1,inplace=True)\n",
    "# df.columns"
   ]
  },
  {
   "cell_type": "code",
   "execution_count": 89,
   "metadata": {
    "collapsed": false,
    "scrolled": true
   },
   "outputs": [
    {
     "data": {
      "text/plain": [
       "array([[<matplotlib.axes._subplots.AxesSubplot object at 0x0000000030546390>,\n",
       "        <matplotlib.axes._subplots.AxesSubplot object at 0x00000000305F7F28>,\n",
       "        <matplotlib.axes._subplots.AxesSubplot object at 0x0000000030648780>,\n",
       "        <matplotlib.axes._subplots.AxesSubplot object at 0x000000003B8BDA90>,\n",
       "        <matplotlib.axes._subplots.AxesSubplot object at 0x0000000042EA8C50>,\n",
       "        <matplotlib.axes._subplots.AxesSubplot object at 0x00000000324CD4A8>],\n",
       "       [<matplotlib.axes._subplots.AxesSubplot object at 0x0000000030E35128>,\n",
       "        <matplotlib.axes._subplots.AxesSubplot object at 0x0000000030E43400>,\n",
       "        <matplotlib.axes._subplots.AxesSubplot object at 0x000000003B6B92B0>,\n",
       "        <matplotlib.axes._subplots.AxesSubplot object at 0x0000000034CC3E80>,\n",
       "        <matplotlib.axes._subplots.AxesSubplot object at 0x0000000039B14D68>,\n",
       "        <matplotlib.axes._subplots.AxesSubplot object at 0x000000003B552978>],\n",
       "       [<matplotlib.axes._subplots.AxesSubplot object at 0x00000000330D1128>,\n",
       "        <matplotlib.axes._subplots.AxesSubplot object at 0x0000000043774CF8>,\n",
       "        <matplotlib.axes._subplots.AxesSubplot object at 0x00000000438414A8>,\n",
       "        <matplotlib.axes._subplots.AxesSubplot object at 0x00000000399D8EF0>,\n",
       "        <matplotlib.axes._subplots.AxesSubplot object at 0x000000003318FB00>,\n",
       "        <matplotlib.axes._subplots.AxesSubplot object at 0x0000000028D6A278>],\n",
       "       [<matplotlib.axes._subplots.AxesSubplot object at 0x000000001FA8E208>,\n",
       "        <matplotlib.axes._subplots.AxesSubplot object at 0x0000000043C416A0>,\n",
       "        <matplotlib.axes._subplots.AxesSubplot object at 0x0000000039C9D278>,\n",
       "        <matplotlib.axes._subplots.AxesSubplot object at 0x00000000316C8908>,\n",
       "        <matplotlib.axes._subplots.AxesSubplot object at 0x000000003172C7B8>,\n",
       "        <matplotlib.axes._subplots.AxesSubplot object at 0x0000000033FF0F28>],\n",
       "       [<matplotlib.axes._subplots.AxesSubplot object at 0x0000000033F965F8>,\n",
       "        <matplotlib.axes._subplots.AxesSubplot object at 0x000000003A3F83C8>,\n",
       "        <matplotlib.axes._subplots.AxesSubplot object at 0x000000003B928A58>,\n",
       "        <matplotlib.axes._subplots.AxesSubplot object at 0x0000000034B2DFD0>,\n",
       "        <matplotlib.axes._subplots.AxesSubplot object at 0x0000000030FF5780>,\n",
       "        <matplotlib.axes._subplots.AxesSubplot object at 0x00000000312FB438>],\n",
       "       [<matplotlib.axes._subplots.AxesSubplot object at 0x000000003B5DBCF8>,\n",
       "        <matplotlib.axes._subplots.AxesSubplot object at 0x00000000409473C8>,\n",
       "        <matplotlib.axes._subplots.AxesSubplot object at 0x0000000032F40048>,\n",
       "        <matplotlib.axes._subplots.AxesSubplot object at 0x000000004368A6D8>,\n",
       "        <matplotlib.axes._subplots.AxesSubplot object at 0x00000000436F0588>,\n",
       "        <matplotlib.axes._subplots.AxesSubplot object at 0x0000000031B52CF8>]], dtype=object)"
      ]
     },
     "execution_count": 89,
     "metadata": {},
     "output_type": "execute_result"
    },
    {
     "data": {
      "image/png": "[encoded data removed]",
      "text/plain": [
       "<matplotlib.figure.Figure at 0x25dbd240>"
      ]
     },
     "metadata": {},
     "output_type": "display_data"
    }
   ],
   "source": [
    "# https://stanford.edu/~mwaskom/software/seaborn/tutorial/categorical.html\n",
    "df.hist(alpha=0.4,figsize=(15,15))\n",
    "# plt.show()"
   ]
  },
  {
   "cell_type": "code",
   "execution_count": 90,
   "metadata": {
    "collapsed": true
   },
   "outputs": [],
   "source": [
    "# http://stackoverflow.com/questions/15021521/how-to-encode-a-categorical-variable-in-sklearn\n",
    "# http://fastml.com/converting-categorical-data-into-numbers-with-pandas-and-scikit-learn/"
   ]
  },
  {
   "cell_type": "code",
   "execution_count": 91,
   "metadata": {
    "collapsed": false
   },
   "outputs": [
    {
     "data": {
      "text/plain": [
       "(12445, 32)"
      ]
     },
     "execution_count": 91,
     "metadata": {},
     "output_type": "execute_result"
    }
   ],
   "source": [
    "ohe = OHE()\n",
    "y= df.HUMRAT_TEUNA.values\n",
    "# x=df.drop(\"HUMRAT_TEUNA\",axis=1)\n",
    "x = pd.get_dummies(df.drop(\"HUMRAT_TEUNA\",axis=1),sparse=True)\n",
    "# x=ohe.fit_transform(x)\n",
    "x.shape"
   ]
  },
  {
   "cell_type": "code",
   "execution_count": 92,
   "metadata": {
    "collapsed": false
   },
   "outputs": [
    {
     "data": {
      "text/html": [
       "<div>\n",
       "<table border=\"1\" class=\"dataframe\">\n",
       "  <thead>\n",
       "    <tr style=\"text-align: right;\">\n",
       "      <th></th>\n",
       "      <th>THUM_GEOGRAFI_1</th>\n",
       "      <th>THUM_GEOGRAFI_2</th>\n",
       "      <th>SUG_DEREH_1</th>\n",
       "      <th>SUG_DEREH_2</th>\n",
       "      <th>SUG_DEREH_3</th>\n",
       "      <th>SUG_DEREH_4</th>\n",
       "      <th>SEMEL_YISHUV_0</th>\n",
       "      <th>SEMEL_YISHUV_26</th>\n",
       "      <th>SEMEL_YISHUV_28</th>\n",
       "      <th>SEMEL_YISHUV_29</th>\n",
       "      <th>...</th>\n",
       "      <th>ZURAT_ISHUV_46</th>\n",
       "      <th>ZURAT_ISHUV_49</th>\n",
       "      <th>ZURAT_ISHUV_51</th>\n",
       "      <th>ZURAT_ISHUV_52</th>\n",
       "      <th>ZURAT_ISHUV_99</th>\n",
       "      <th>STATUS_IGUN_1</th>\n",
       "      <th>STATUS_IGUN_2</th>\n",
       "      <th>STATUS_IGUN_3</th>\n",
       "      <th>STATUS_IGUN_4</th>\n",
       "      <th>STATUS_IGUN_9</th>\n",
       "    </tr>\n",
       "  </thead>\n",
       "  <tbody>\n",
       "    <tr>\n",
       "      <th>0</th>\n",
       "      <td>1</td>\n",
       "      <td>0</td>\n",
       "      <td>1</td>\n",
       "      <td>0</td>\n",
       "      <td>0</td>\n",
       "      <td>0</td>\n",
       "      <td>0</td>\n",
       "      <td>0</td>\n",
       "      <td>0</td>\n",
       "      <td>0</td>\n",
       "      <td>...</td>\n",
       "      <td>0</td>\n",
       "      <td>0</td>\n",
       "      <td>0</td>\n",
       "      <td>0</td>\n",
       "      <td>0</td>\n",
       "      <td>1</td>\n",
       "      <td>0</td>\n",
       "      <td>0</td>\n",
       "      <td>0</td>\n",
       "      <td>0</td>\n",
       "    </tr>\n",
       "    <tr>\n",
       "      <th>1</th>\n",
       "      <td>1</td>\n",
       "      <td>0</td>\n",
       "      <td>0</td>\n",
       "      <td>1</td>\n",
       "      <td>0</td>\n",
       "      <td>0</td>\n",
       "      <td>0</td>\n",
       "      <td>0</td>\n",
       "      <td>0</td>\n",
       "      <td>0</td>\n",
       "      <td>...</td>\n",
       "      <td>0</td>\n",
       "      <td>0</td>\n",
       "      <td>0</td>\n",
       "      <td>0</td>\n",
       "      <td>0</td>\n",
       "      <td>0</td>\n",
       "      <td>0</td>\n",
       "      <td>1</td>\n",
       "      <td>0</td>\n",
       "      <td>0</td>\n",
       "    </tr>\n",
       "    <tr>\n",
       "      <th>2</th>\n",
       "      <td>1</td>\n",
       "      <td>0</td>\n",
       "      <td>0</td>\n",
       "      <td>0</td>\n",
       "      <td>0</td>\n",
       "      <td>1</td>\n",
       "      <td>1</td>\n",
       "      <td>0</td>\n",
       "      <td>0</td>\n",
       "      <td>0</td>\n",
       "      <td>...</td>\n",
       "      <td>0</td>\n",
       "      <td>0</td>\n",
       "      <td>0</td>\n",
       "      <td>0</td>\n",
       "      <td>1</td>\n",
       "      <td>1</td>\n",
       "      <td>0</td>\n",
       "      <td>0</td>\n",
       "      <td>0</td>\n",
       "      <td>0</td>\n",
       "    </tr>\n",
       "    <tr>\n",
       "      <th>3</th>\n",
       "      <td>1</td>\n",
       "      <td>0</td>\n",
       "      <td>1</td>\n",
       "      <td>0</td>\n",
       "      <td>0</td>\n",
       "      <td>0</td>\n",
       "      <td>0</td>\n",
       "      <td>0</td>\n",
       "      <td>0</td>\n",
       "      <td>0</td>\n",
       "      <td>...</td>\n",
       "      <td>0</td>\n",
       "      <td>0</td>\n",
       "      <td>0</td>\n",
       "      <td>0</td>\n",
       "      <td>0</td>\n",
       "      <td>1</td>\n",
       "      <td>0</td>\n",
       "      <td>0</td>\n",
       "      <td>0</td>\n",
       "      <td>0</td>\n",
       "    </tr>\n",
       "    <tr>\n",
       "      <th>4</th>\n",
       "      <td>1</td>\n",
       "      <td>0</td>\n",
       "      <td>0</td>\n",
       "      <td>1</td>\n",
       "      <td>0</td>\n",
       "      <td>0</td>\n",
       "      <td>0</td>\n",
       "      <td>0</td>\n",
       "      <td>0</td>\n",
       "      <td>0</td>\n",
       "      <td>...</td>\n",
       "      <td>0</td>\n",
       "      <td>0</td>\n",
       "      <td>0</td>\n",
       "      <td>0</td>\n",
       "      <td>0</td>\n",
       "      <td>1</td>\n",
       "      <td>0</td>\n",
       "      <td>0</td>\n",
       "      <td>0</td>\n",
       "      <td>0</td>\n",
       "    </tr>\n",
       "  </tbody>\n",
       "</table>\n",
       "<p>5 rows × 677 columns</p>\n",
       "</div>"
      ],
      "text/plain": [
       "   THUM_GEOGRAFI_1  THUM_GEOGRAFI_2  SUG_DEREH_1  SUG_DEREH_2  SUG_DEREH_3  \\\n",
       "0                1                0            1            0            0   \n",
       "1                1                0            0            1            0   \n",
       "2                1                0            0            0            0   \n",
       "3                1                0            1            0            0   \n",
       "4                1                0            0            1            0   \n",
       "\n",
       "   SUG_DEREH_4  SEMEL_YISHUV_0  SEMEL_YISHUV_26  SEMEL_YISHUV_28  \\\n",
       "0            0               0                0                0   \n",
       "1            0               0                0                0   \n",
       "2            1               1                0                0   \n",
       "3            0               0                0                0   \n",
       "4            0               0                0                0   \n",
       "\n",
       "   SEMEL_YISHUV_29      ...        ZURAT_ISHUV_46  ZURAT_ISHUV_49  \\\n",
       "0                0      ...                     0               0   \n",
       "1                0      ...                     0               0   \n",
       "2                0      ...                     0               0   \n",
       "3                0      ...                     0               0   \n",
       "4                0      ...                     0               0   \n",
       "\n",
       "   ZURAT_ISHUV_51  ZURAT_ISHUV_52  ZURAT_ISHUV_99  STATUS_IGUN_1  \\\n",
       "0               0               0               0              1   \n",
       "1               0               0               0              0   \n",
       "2               0               0               1              1   \n",
       "3               0               0               0              1   \n",
       "4               0               0               0              1   \n",
       "\n",
       "   STATUS_IGUN_2  STATUS_IGUN_3  STATUS_IGUN_4  STATUS_IGUN_9  \n",
       "0              0              0              0              0  \n",
       "1              0              1              0              0  \n",
       "2              0              0              0              0  \n",
       "3              0              0              0              0  \n",
       "4              0              0              0              0  \n",
       "\n",
       "[5 rows x 677 columns]"
      ]
     },
     "execution_count": 92,
     "metadata": {},
     "output_type": "execute_result"
    }
   ],
   "source": [
    "x = pd.get_dummies(x,columns=list(x.columns.values))\n",
    "x.head()"
   ]
  },
  {
   "cell_type": "code",
   "execution_count": 93,
   "metadata": {
    "collapsed": false
   },
   "outputs": [],
   "source": [
    "clf = LogisticRegressionCV(class_weight=\"auto\")\n",
    "# print(cross_val_score(clf,x,y,scoring=\"f1\").mean())"
   ]
  },
  {
   "cell_type": "code",
   "execution_count": 94,
   "metadata": {
    "collapsed": false
   },
   "outputs": [],
   "source": [
    "# selector = RFECV(clf, step=0.1, cv=3)\n",
    "selector = RandomizedLogisticRegression(n_resampling =200,selection_threshold=0.38)\n",
    "selector = selector.fit(x, y)"
   ]
  },
  {
   "cell_type": "code",
   "execution_count": 95,
   "metadata": {
    "collapsed": false
   },
   "outputs": [
    {
     "data": {
      "text/html": [
       "<div>\n",
       "<table border=\"1\" class=\"dataframe\">\n",
       "  <thead>\n",
       "    <tr style=\"text-align: right;\">\n",
       "      <th></th>\n",
       "      <th>SUG_DEREH_1</th>\n",
       "      <th>SUG_DEREH_4</th>\n",
       "      <th>YEHIDA_14</th>\n",
       "      <th>RAMZOR_9</th>\n",
       "      <th>TKINUT_3</th>\n",
       "      <th>ROHAV_0</th>\n",
       "      <th>SIMUN_TIMRUR_4</th>\n",
       "      <th>TEURA_5</th>\n",
       "      <th>PNE_KVISH_6</th>\n",
       "      <th>SUG_EZEM_9</th>\n",
       "      <th>...</th>\n",
       "      <th>OFEN_HAZIYA_8</th>\n",
       "      <th>OFEN_HAZIYA_9</th>\n",
       "      <th>MEKOM_HAZIYA_1</th>\n",
       "      <th>MEKOM_HAZIYA_2</th>\n",
       "      <th>MAHOZ_1</th>\n",
       "      <th>MAHOZ_2</th>\n",
       "      <th>MAHOZ_4</th>\n",
       "      <th>NAFA_11</th>\n",
       "      <th>ZURAT_ISHUV_27</th>\n",
       "      <th>ZURAT_ISHUV_35</th>\n",
       "    </tr>\n",
       "  </thead>\n",
       "  <tbody>\n",
       "    <tr>\n",
       "      <th>0</th>\n",
       "      <td>1</td>\n",
       "      <td>0</td>\n",
       "      <td>0</td>\n",
       "      <td>1</td>\n",
       "      <td>0</td>\n",
       "      <td>0</td>\n",
       "      <td>0</td>\n",
       "      <td>0</td>\n",
       "      <td>0</td>\n",
       "      <td>1</td>\n",
       "      <td>...</td>\n",
       "      <td>0</td>\n",
       "      <td>0</td>\n",
       "      <td>0</td>\n",
       "      <td>0</td>\n",
       "      <td>0</td>\n",
       "      <td>0</td>\n",
       "      <td>1</td>\n",
       "      <td>0</td>\n",
       "      <td>0</td>\n",
       "      <td>0</td>\n",
       "    </tr>\n",
       "    <tr>\n",
       "      <th>1</th>\n",
       "      <td>0</td>\n",
       "      <td>0</td>\n",
       "      <td>0</td>\n",
       "      <td>1</td>\n",
       "      <td>0</td>\n",
       "      <td>1</td>\n",
       "      <td>0</td>\n",
       "      <td>0</td>\n",
       "      <td>0</td>\n",
       "      <td>1</td>\n",
       "      <td>...</td>\n",
       "      <td>0</td>\n",
       "      <td>0</td>\n",
       "      <td>0</td>\n",
       "      <td>0</td>\n",
       "      <td>0</td>\n",
       "      <td>0</td>\n",
       "      <td>0</td>\n",
       "      <td>0</td>\n",
       "      <td>0</td>\n",
       "      <td>0</td>\n",
       "    </tr>\n",
       "    <tr>\n",
       "      <th>2</th>\n",
       "      <td>0</td>\n",
       "      <td>1</td>\n",
       "      <td>0</td>\n",
       "      <td>1</td>\n",
       "      <td>0</td>\n",
       "      <td>0</td>\n",
       "      <td>0</td>\n",
       "      <td>0</td>\n",
       "      <td>0</td>\n",
       "      <td>1</td>\n",
       "      <td>...</td>\n",
       "      <td>0</td>\n",
       "      <td>0</td>\n",
       "      <td>0</td>\n",
       "      <td>1</td>\n",
       "      <td>0</td>\n",
       "      <td>0</td>\n",
       "      <td>0</td>\n",
       "      <td>0</td>\n",
       "      <td>0</td>\n",
       "      <td>0</td>\n",
       "    </tr>\n",
       "    <tr>\n",
       "      <th>3</th>\n",
       "      <td>1</td>\n",
       "      <td>0</td>\n",
       "      <td>0</td>\n",
       "      <td>1</td>\n",
       "      <td>0</td>\n",
       "      <td>0</td>\n",
       "      <td>0</td>\n",
       "      <td>0</td>\n",
       "      <td>0</td>\n",
       "      <td>1</td>\n",
       "      <td>...</td>\n",
       "      <td>0</td>\n",
       "      <td>0</td>\n",
       "      <td>0</td>\n",
       "      <td>0</td>\n",
       "      <td>0</td>\n",
       "      <td>0</td>\n",
       "      <td>0</td>\n",
       "      <td>0</td>\n",
       "      <td>0</td>\n",
       "      <td>0</td>\n",
       "    </tr>\n",
       "    <tr>\n",
       "      <th>4</th>\n",
       "      <td>0</td>\n",
       "      <td>0</td>\n",
       "      <td>0</td>\n",
       "      <td>1</td>\n",
       "      <td>0</td>\n",
       "      <td>0</td>\n",
       "      <td>0</td>\n",
       "      <td>0</td>\n",
       "      <td>0</td>\n",
       "      <td>1</td>\n",
       "      <td>...</td>\n",
       "      <td>0</td>\n",
       "      <td>0</td>\n",
       "      <td>0</td>\n",
       "      <td>0</td>\n",
       "      <td>0</td>\n",
       "      <td>1</td>\n",
       "      <td>0</td>\n",
       "      <td>0</td>\n",
       "      <td>0</td>\n",
       "      <td>0</td>\n",
       "    </tr>\n",
       "  </tbody>\n",
       "</table>\n",
       "<p>5 rows × 23 columns</p>\n",
       "</div>"
      ],
      "text/plain": [
       "   SUG_DEREH_1  SUG_DEREH_4  YEHIDA_14  RAMZOR_9  TKINUT_3  ROHAV_0  \\\n",
       "0            1            0          0         1         0        0   \n",
       "1            0            0          0         1         0        1   \n",
       "2            0            1          0         1         0        0   \n",
       "3            1            0          0         1         0        0   \n",
       "4            0            0          0         1         0        0   \n",
       "\n",
       "   SIMUN_TIMRUR_4  TEURA_5  PNE_KVISH_6  SUG_EZEM_9       ...        \\\n",
       "0               0        0            0           1       ...         \n",
       "1               0        0            0           1       ...         \n",
       "2               0        0            0           1       ...         \n",
       "3               0        0            0           1       ...         \n",
       "4               0        0            0           1       ...         \n",
       "\n",
       "   OFEN_HAZIYA_8  OFEN_HAZIYA_9  MEKOM_HAZIYA_1  MEKOM_HAZIYA_2  MAHOZ_1  \\\n",
       "0              0              0               0               0        0   \n",
       "1              0              0               0               0        0   \n",
       "2              0              0               0               1        0   \n",
       "3              0              0               0               0        0   \n",
       "4              0              0               0               0        0   \n",
       "\n",
       "   MAHOZ_2  MAHOZ_4  NAFA_11  ZURAT_ISHUV_27  ZURAT_ISHUV_35  \n",
       "0        0        1        0               0               0  \n",
       "1        0        0        0               0               0  \n",
       "2        0        0        0               0               0  \n",
       "3        0        0        0               0               0  \n",
       "4        1        0        0               0               0  \n",
       "\n",
       "[5 rows x 23 columns]"
      ]
     },
     "execution_count": 95,
     "metadata": {},
     "output_type": "execute_result"
    }
   ],
   "source": [
    "x[selector.get_support(indices=True)].head()"
   ]
  },
  {
   "cell_type": "code",
   "execution_count": 96,
   "metadata": {
    "collapsed": false
   },
   "outputs": [
    {
     "name": "stdout",
     "output_type": "stream",
     "text": [
      "['SUG_DEREH_1', 'SUG_DEREH_4', 'YEHIDA_14', 'RAMZOR_9', 'TKINUT_3', 'ROHAV_0', 'SIMUN_TIMRUR_4', 'TEURA_5', 'PNE_KVISH_6', 'SUG_EZEM_9', 'LO_HAZA_9', 'OFEN_HAZIYA_0', 'OFEN_HAZIYA_1', 'OFEN_HAZIYA_8', 'OFEN_HAZIYA_9', 'MEKOM_HAZIYA_1', 'MEKOM_HAZIYA_2', 'MAHOZ_1', 'MAHOZ_2', 'MAHOZ_4', 'NAFA_11', 'ZURAT_ISHUV_27', 'ZURAT_ISHUV_35']\n"
     ]
    }
   ],
   "source": [
    "best_feats = list(x[selector.get_support(indices=True)].columns.values)\n",
    "print(best_feats)"
   ]
  },
  {
   "cell_type": "code",
   "execution_count": 97,
   "metadata": {
    "collapsed": false
   },
   "outputs": [
    {
     "name": "stdout",
     "output_type": "stream",
     "text": [
      "             precision    recall  f1-score   support\n",
      "\n",
      "     Lethal       0.25      0.60      0.35      1733\n",
      "      Minor       0.92      0.70      0.79     10712\n",
      "\n",
      "avg / total       0.82      0.69      0.73     12445\n",
      "\n"
     ]
    }
   ],
   "source": [
    "y_pred = cross_val_predict(clf,x,y,cv=5)\n",
    "print(classification_report(y, y_pred, target_names=[\"Lethal\",\"Minor\"]))"
   ]
  },
  {
   "cell_type": "code",
   "execution_count": 98,
   "metadata": {
    "collapsed": false
   },
   "outputs": [
    {
     "name": "stdout",
     "output_type": "stream",
     "text": [
      "             precision    recall  f1-score   support\n",
      "\n",
      "     Lethal       0.24      0.66      0.35      1733\n",
      "      Minor       0.92      0.66      0.77     10712\n",
      "\n",
      "avg / total       0.83      0.66      0.71     12445\n",
      "\n"
     ]
    }
   ],
   "source": [
    "y_pred_red = cross_val_predict(clf,selector.transform(x),y,cv=5)\n",
    "print(classification_report(y, y_pred_red, target_names=[\"Lethal\",\"Minor\"]))"
   ]
  }
 ],
 "metadata": {
  "kernelspec": {
   "display_name": "Python 2",
   "language": "python",
   "name": "python2"
  },
  "language_info": {
   "codemirror_mode": {
    "name": "ipython",
    "version": 2
   },
   "file_extension": ".py",
   "mimetype": "text/x-python",
   "name": "python",
   "nbconvert_exporter": "python",
   "pygments_lexer": "ipython2",
   "version": "2.7.10"
  }
 },
 "nbformat": 4,
 "nbformat_minor": 0
}
